{
 "cells": [
  {
   "cell_type": "code",
   "execution_count": 9,
   "metadata": {},
   "outputs": [
    {
     "name": "stdout",
     "output_type": "stream",
     "text": [
      "Filtered data saved to filtered_nifty_50.csv\n"
     ]
    }
   ],
   "source": [
    "import pandas as pd\n",
    "\n",
    "# List of NIFTY 50 symbols\n",
    "nifty_50_symbols = [\n",
    "    \"ADANIENT\", \"ADANIGREEN\", \"ADANIPORTS\", \"AMBUJACEM\", \"ASIANPAINT\",\n",
    "    \"AXISBANK\", \"BAJAJ-AUTO\", \"BAJAJFINSV\", \"BAJFINANCE\", \"BHARTIARTL\",\n",
    "    \"BPCL\", \"BRITANNIA\", \"CIPLA\", \"COALINDIA\", \"DIVISLAB\", \"DRREDDY\",\n",
    "    \"EICHERMOT\", \"GRASIM\", \"HCLTECH\", \"HDFC\", \"HDFCBANK\", \"HDFCLIFE\",\n",
    "    \"HEROMOTOCO\", \"HINDALCO\", \"HINDUNILVR\", \"ICICIBANK\", \"INDUSINDBK\",\n",
    "    \"INFY\", \"ITC\", \"JSWSTEEL\", \"KOTAKBANK\", \"LT\", \"M&M\", \"MARUTI\",\n",
    "    \"NESTLEIND\", \"NTPC\", \"ONGC\", \"POWERGRID\", \"RELIANCE\", \"SBILIFE\",\n",
    "    \"SBIN\", \"SUNPHARMA\", \"TATACONSUM\", \"TATAMOTORS\", \"TATASTEEL\",\n",
    "    \"TCS\", \"TECHM\", \"TITAN\", \"ULTRACEMCO\", \"UPL\", \"WIPRO\"\n",
    "]\n",
    "\n",
    "# Path to the input and output CSV files\n",
    "input_csv = \"companies.csv\"  # Replace with your actual input file path\n",
    "output_csv = \"filtered_nifty_50.csv\"  # The file to save the filtered data\n",
    "\n",
    "# Load the CSV file into a pandas DataFrame\n",
    "df = pd.read_csv(input_csv)\n",
    "\n",
    "# Ensure the column containing the symbols is named \"Symbol\"\n",
    "if \"SYMBOL\" not in df.columns:\n",
    "    raise ValueError(\"The input CSV must have a 'Symbol' column.\")\n",
    "\n",
    "# Filter the DataFrame to retain only rows where 'Symbol' is in nifty_50_symbols\n",
    "filtered_df = df[df['SYMBOL'].isin(nifty_50_symbols)]\n",
    "\n",
    "# Save the filtered DataFrame to a new CSV file\n",
    "filtered_df.to_csv(output_csv, index=False)\n",
    "\n",
    "print(f\"Filtered data saved to {output_csv}\")\n"
   ]
  }
 ],
 "metadata": {
  "kernelspec": {
   "display_name": "Python 3",
   "language": "python",
   "name": "python3"
  },
  "language_info": {
   "codemirror_mode": {
    "name": "ipython",
    "version": 3
   },
   "file_extension": ".py",
   "mimetype": "text/x-python",
   "name": "python",
   "nbconvert_exporter": "python",
   "pygments_lexer": "ipython3",
   "version": "3.11.4"
  }
 },
 "nbformat": 4,
 "nbformat_minor": 2
}
